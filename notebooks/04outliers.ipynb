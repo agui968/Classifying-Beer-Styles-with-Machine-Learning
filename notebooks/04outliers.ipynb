{
 "cells": [
  {
   "cell_type": "code",
   "execution_count": 1,
   "metadata": {},
   "outputs": [],
   "source": [
    "import pandas as pd\n",
    "import seaborn as sns\n",
    "import matplotlib.pyplot as plt\n",
    "pd.set_option('display.max_columns', 40)\n",
    "pd.set_option('display.max_colwidth', 300)"
   ]
  },
  {
   "cell_type": "code",
   "execution_count": 2,
   "metadata": {},
   "outputs": [
    {
     "data": {
      "text/html": [
       "<div>\n",
       "<style scoped>\n",
       "    .dataframe tbody tr th:only-of-type {\n",
       "        vertical-align: middle;\n",
       "    }\n",
       "\n",
       "    .dataframe tbody tr th {\n",
       "        vertical-align: top;\n",
       "    }\n",
       "\n",
       "    .dataframe thead th {\n",
       "        text-align: right;\n",
       "    }\n",
       "</style>\n",
       "<table border=\"1\" class=\"dataframe\">\n",
       "  <thead>\n",
       "    <tr style=\"text-align: right;\">\n",
       "      <th></th>\n",
       "      <th>Name</th>\n",
       "      <th>Style</th>\n",
       "      <th>StyleID</th>\n",
       "      <th>ABV</th>\n",
       "      <th>IBU</th>\n",
       "      <th>Color</th>\n",
       "      <th>Simple_style</th>\n",
       "      <th>Style_code</th>\n",
       "    </tr>\n",
       "  </thead>\n",
       "  <tbody>\n",
       "    <tr>\n",
       "      <th>0</th>\n",
       "      <td>Vanilla Cream Ale</td>\n",
       "      <td>Cream Ale</td>\n",
       "      <td>45</td>\n",
       "      <td>5.48</td>\n",
       "      <td>17.65</td>\n",
       "      <td>4.83</td>\n",
       "      <td>Pale Lager/Blonde Ale</td>\n",
       "      <td>2</td>\n",
       "    </tr>\n",
       "    <tr>\n",
       "      <th>2</th>\n",
       "      <td>Zombie Dust Clone - EXTRACT</td>\n",
       "      <td>American IPA</td>\n",
       "      <td>7</td>\n",
       "      <td>5.91</td>\n",
       "      <td>59.25</td>\n",
       "      <td>8.98</td>\n",
       "      <td>Pale Ale</td>\n",
       "      <td>1</td>\n",
       "    </tr>\n",
       "    <tr>\n",
       "      <th>3</th>\n",
       "      <td>Zombie Dust Clone - ALL GRAIN</td>\n",
       "      <td>American IPA</td>\n",
       "      <td>7</td>\n",
       "      <td>5.80</td>\n",
       "      <td>54.48</td>\n",
       "      <td>8.50</td>\n",
       "      <td>Pale Ale</td>\n",
       "      <td>1</td>\n",
       "    </tr>\n",
       "    <tr>\n",
       "      <th>4</th>\n",
       "      <td>Bakke Brygg Belgisk Blonde 50 l</td>\n",
       "      <td>Belgian Blond Ale</td>\n",
       "      <td>20</td>\n",
       "      <td>6.48</td>\n",
       "      <td>17.84</td>\n",
       "      <td>4.57</td>\n",
       "      <td>Pale Lager/Blonde Ale</td>\n",
       "      <td>2</td>\n",
       "    </tr>\n",
       "    <tr>\n",
       "      <th>5</th>\n",
       "      <td>Sierra Nevada Pale Ale Clone</td>\n",
       "      <td>American Pale Ale</td>\n",
       "      <td>10</td>\n",
       "      <td>5.58</td>\n",
       "      <td>40.12</td>\n",
       "      <td>8.00</td>\n",
       "      <td>Pale Ale</td>\n",
       "      <td>1</td>\n",
       "    </tr>\n",
       "  </tbody>\n",
       "</table>\n",
       "</div>"
      ],
      "text/plain": [
       "                              Name              Style  StyleID   ABV    IBU  \\\n",
       "0                Vanilla Cream Ale          Cream Ale       45  5.48  17.65   \n",
       "2      Zombie Dust Clone - EXTRACT       American IPA        7  5.91  59.25   \n",
       "3    Zombie Dust Clone - ALL GRAIN       American IPA        7  5.80  54.48   \n",
       "4  Bakke Brygg Belgisk Blonde 50 l  Belgian Blond Ale       20  6.48  17.84   \n",
       "5     Sierra Nevada Pale Ale Clone  American Pale Ale       10  5.58  40.12   \n",
       "\n",
       "   Color           Simple_style  Style_code  \n",
       "0   4.83  Pale Lager/Blonde Ale           2  \n",
       "2   8.98               Pale Ale           1  \n",
       "3   8.50               Pale Ale           1  \n",
       "4   4.57  Pale Lager/Blonde Ale           2  \n",
       "5   8.00               Pale Ale           1  "
      ]
     },
     "execution_count": 2,
     "metadata": {},
     "output_type": "execute_result"
    }
   ],
   "source": [
    "# beer1=pd.read_csv('../data/raw/recipeData.csv')\n",
    "# beerd=pd.read_csv('../data/processed/dummies.csv',index_col=0)\n",
    "beere=pd.read_csv('../data/processed/encoder.csv',index_col=0)\n",
    "beere.head() #color=SRM"
   ]
  },
  {
   "cell_type": "code",
   "execution_count": 3,
   "metadata": {},
   "outputs": [],
   "source": [
    "beere=beere.drop(columns='Style_code')"
   ]
  },
  {
   "cell_type": "code",
   "execution_count": 4,
   "metadata": {},
   "outputs": [
    {
     "data": {
      "text/html": [
       "<div>\n",
       "<style scoped>\n",
       "    .dataframe tbody tr th:only-of-type {\n",
       "        vertical-align: middle;\n",
       "    }\n",
       "\n",
       "    .dataframe tbody tr th {\n",
       "        vertical-align: top;\n",
       "    }\n",
       "\n",
       "    .dataframe thead th {\n",
       "        text-align: right;\n",
       "    }\n",
       "</style>\n",
       "<table border=\"1\" class=\"dataframe\">\n",
       "  <thead>\n",
       "    <tr style=\"text-align: right;\">\n",
       "      <th></th>\n",
       "      <th>Name</th>\n",
       "      <th>Style</th>\n",
       "      <th>StyleID</th>\n",
       "      <th>ABV</th>\n",
       "      <th>IBU</th>\n",
       "      <th>Color</th>\n",
       "      <th>Simple_style</th>\n",
       "      <th>Style_code</th>\n",
       "    </tr>\n",
       "  </thead>\n",
       "  <tbody>\n",
       "    <tr>\n",
       "      <th>0</th>\n",
       "      <td>Vanilla Cream Ale</td>\n",
       "      <td>Cream Ale</td>\n",
       "      <td>45</td>\n",
       "      <td>5.48</td>\n",
       "      <td>17.65</td>\n",
       "      <td>4.83</td>\n",
       "      <td>Pale Lager/Blonde Ale</td>\n",
       "      <td>1</td>\n",
       "    </tr>\n",
       "    <tr>\n",
       "      <th>2</th>\n",
       "      <td>Zombie Dust Clone - EXTRACT</td>\n",
       "      <td>American IPA</td>\n",
       "      <td>7</td>\n",
       "      <td>5.91</td>\n",
       "      <td>59.25</td>\n",
       "      <td>8.98</td>\n",
       "      <td>Pale Ale</td>\n",
       "      <td>2</td>\n",
       "    </tr>\n",
       "    <tr>\n",
       "      <th>3</th>\n",
       "      <td>Zombie Dust Clone - ALL GRAIN</td>\n",
       "      <td>American IPA</td>\n",
       "      <td>7</td>\n",
       "      <td>5.80</td>\n",
       "      <td>54.48</td>\n",
       "      <td>8.50</td>\n",
       "      <td>Pale Ale</td>\n",
       "      <td>2</td>\n",
       "    </tr>\n",
       "    <tr>\n",
       "      <th>4</th>\n",
       "      <td>Bakke Brygg Belgisk Blonde 50 l</td>\n",
       "      <td>Belgian Blond Ale</td>\n",
       "      <td>20</td>\n",
       "      <td>6.48</td>\n",
       "      <td>17.84</td>\n",
       "      <td>4.57</td>\n",
       "      <td>Pale Lager/Blonde Ale</td>\n",
       "      <td>1</td>\n",
       "    </tr>\n",
       "    <tr>\n",
       "      <th>5</th>\n",
       "      <td>Sierra Nevada Pale Ale Clone</td>\n",
       "      <td>American Pale Ale</td>\n",
       "      <td>10</td>\n",
       "      <td>5.58</td>\n",
       "      <td>40.12</td>\n",
       "      <td>8.00</td>\n",
       "      <td>Pale Ale</td>\n",
       "      <td>2</td>\n",
       "    </tr>\n",
       "  </tbody>\n",
       "</table>\n",
       "</div>"
      ],
      "text/plain": [
       "                              Name              Style  StyleID   ABV    IBU  \\\n",
       "0                Vanilla Cream Ale          Cream Ale       45  5.48  17.65   \n",
       "2      Zombie Dust Clone - EXTRACT       American IPA        7  5.91  59.25   \n",
       "3    Zombie Dust Clone - ALL GRAIN       American IPA        7  5.80  54.48   \n",
       "4  Bakke Brygg Belgisk Blonde 50 l  Belgian Blond Ale       20  6.48  17.84   \n",
       "5     Sierra Nevada Pale Ale Clone  American Pale Ale       10  5.58  40.12   \n",
       "\n",
       "   Color           Simple_style  Style_code  \n",
       "0   4.83  Pale Lager/Blonde Ale           1  \n",
       "2   8.98               Pale Ale           2  \n",
       "3   8.50               Pale Ale           2  \n",
       "4   4.57  Pale Lager/Blonde Ale           1  \n",
       "5   8.00               Pale Ale           2  "
      ]
     },
     "execution_count": 4,
     "metadata": {},
     "output_type": "execute_result"
    }
   ],
   "source": [
    "style_map = {\n",
    "    \"Wheat\": 0,\n",
    "    \"Pale Lager/Blonde Ale\": 1,\n",
    "    \"Pale Ale\": 2,\n",
    "    \"Strong Ale\": 3,\n",
    "    \"Brown Ale\": 4,\n",
    "    \"Stout/Porter\":5\n",
    "}\n",
    "\n",
    "beere['Style_code'] = beere['Simple_style'].map(style_map)\n",
    "beere.head()"
   ]
  },
  {
   "cell_type": "code",
   "execution_count": 5,
   "metadata": {},
   "outputs": [],
   "source": [
    "beere_num=beere[['ABV', 'IBU', 'Color','Style_code']]"
   ]
  },
  {
   "cell_type": "code",
   "execution_count": 6,
   "metadata": {},
   "outputs": [
    {
     "data": {
      "text/html": [
       "<div>\n",
       "<style scoped>\n",
       "    .dataframe tbody tr th:only-of-type {\n",
       "        vertical-align: middle;\n",
       "    }\n",
       "\n",
       "    .dataframe tbody tr th {\n",
       "        vertical-align: top;\n",
       "    }\n",
       "\n",
       "    .dataframe thead th {\n",
       "        text-align: right;\n",
       "    }\n",
       "</style>\n",
       "<table border=\"1\" class=\"dataframe\">\n",
       "  <thead>\n",
       "    <tr style=\"text-align: right;\">\n",
       "      <th></th>\n",
       "      <th>Name</th>\n",
       "      <th>Style</th>\n",
       "      <th>StyleID</th>\n",
       "      <th>ABV</th>\n",
       "      <th>IBU</th>\n",
       "      <th>Color</th>\n",
       "      <th>Simple_style</th>\n",
       "      <th>Style_code</th>\n",
       "    </tr>\n",
       "  </thead>\n",
       "  <tbody>\n",
       "    <tr>\n",
       "      <th>count</th>\n",
       "      <td>61065</td>\n",
       "      <td>61067</td>\n",
       "      <td>61067.000000</td>\n",
       "      <td>61067.000000</td>\n",
       "      <td>61067.000000</td>\n",
       "      <td>61067.000000</td>\n",
       "      <td>61067</td>\n",
       "      <td>61067.000000</td>\n",
       "    </tr>\n",
       "    <tr>\n",
       "      <th>unique</th>\n",
       "      <td>49044</td>\n",
       "      <td>81</td>\n",
       "      <td>NaN</td>\n",
       "      <td>NaN</td>\n",
       "      <td>NaN</td>\n",
       "      <td>NaN</td>\n",
       "      <td>6</td>\n",
       "      <td>NaN</td>\n",
       "    </tr>\n",
       "    <tr>\n",
       "      <th>top</th>\n",
       "      <td>Awesome Recipe</td>\n",
       "      <td>American IPA</td>\n",
       "      <td>NaN</td>\n",
       "      <td>NaN</td>\n",
       "      <td>NaN</td>\n",
       "      <td>NaN</td>\n",
       "      <td>Pale Ale</td>\n",
       "      <td>NaN</td>\n",
       "    </tr>\n",
       "    <tr>\n",
       "      <th>freq</th>\n",
       "      <td>1065</td>\n",
       "      <td>11940</td>\n",
       "      <td>NaN</td>\n",
       "      <td>NaN</td>\n",
       "      <td>NaN</td>\n",
       "      <td>NaN</td>\n",
       "      <td>32185</td>\n",
       "      <td>NaN</td>\n",
       "    </tr>\n",
       "    <tr>\n",
       "      <th>mean</th>\n",
       "      <td>NaN</td>\n",
       "      <td>NaN</td>\n",
       "      <td>52.134148</td>\n",
       "      <td>6.109960</td>\n",
       "      <td>46.082720</td>\n",
       "      <td>13.160316</td>\n",
       "      <td>NaN</td>\n",
       "      <td>2.224999</td>\n",
       "    </tr>\n",
       "    <tr>\n",
       "      <th>std</th>\n",
       "      <td>NaN</td>\n",
       "      <td>NaN</td>\n",
       "      <td>55.290377</td>\n",
       "      <td>1.759085</td>\n",
       "      <td>42.086061</td>\n",
       "      <td>12.212511</td>\n",
       "      <td>NaN</td>\n",
       "      <td>1.379765</td>\n",
       "    </tr>\n",
       "    <tr>\n",
       "      <th>min</th>\n",
       "      <td>NaN</td>\n",
       "      <td>NaN</td>\n",
       "      <td>4.000000</td>\n",
       "      <td>0.000000</td>\n",
       "      <td>0.000000</td>\n",
       "      <td>0.000000</td>\n",
       "      <td>NaN</td>\n",
       "      <td>0.000000</td>\n",
       "    </tr>\n",
       "    <tr>\n",
       "      <th>25%</th>\n",
       "      <td>NaN</td>\n",
       "      <td>NaN</td>\n",
       "      <td>7.000000</td>\n",
       "      <td>5.080000</td>\n",
       "      <td>24.670000</td>\n",
       "      <td>5.070000</td>\n",
       "      <td>NaN</td>\n",
       "      <td>2.000000</td>\n",
       "    </tr>\n",
       "    <tr>\n",
       "      <th>50%</th>\n",
       "      <td>NaN</td>\n",
       "      <td>NaN</td>\n",
       "      <td>22.000000</td>\n",
       "      <td>5.770000</td>\n",
       "      <td>37.060000</td>\n",
       "      <td>7.940000</td>\n",
       "      <td>NaN</td>\n",
       "      <td>2.000000</td>\n",
       "    </tr>\n",
       "    <tr>\n",
       "      <th>75%</th>\n",
       "      <td>NaN</td>\n",
       "      <td>NaN</td>\n",
       "      <td>92.000000</td>\n",
       "      <td>6.790000</td>\n",
       "      <td>58.170000</td>\n",
       "      <td>15.570000</td>\n",
       "      <td>NaN</td>\n",
       "      <td>2.000000</td>\n",
       "    </tr>\n",
       "    <tr>\n",
       "      <th>max</th>\n",
       "      <td>NaN</td>\n",
       "      <td>NaN</td>\n",
       "      <td>175.000000</td>\n",
       "      <td>54.720000</td>\n",
       "      <td>3409.300000</td>\n",
       "      <td>186.000000</td>\n",
       "      <td>NaN</td>\n",
       "      <td>5.000000</td>\n",
       "    </tr>\n",
       "  </tbody>\n",
       "</table>\n",
       "</div>"
      ],
      "text/plain": [
       "                  Name         Style       StyleID           ABV  \\\n",
       "count            61065         61067  61067.000000  61067.000000   \n",
       "unique           49044            81           NaN           NaN   \n",
       "top     Awesome Recipe  American IPA           NaN           NaN   \n",
       "freq              1065         11940           NaN           NaN   \n",
       "mean               NaN           NaN     52.134148      6.109960   \n",
       "std                NaN           NaN     55.290377      1.759085   \n",
       "min                NaN           NaN      4.000000      0.000000   \n",
       "25%                NaN           NaN      7.000000      5.080000   \n",
       "50%                NaN           NaN     22.000000      5.770000   \n",
       "75%                NaN           NaN     92.000000      6.790000   \n",
       "max                NaN           NaN    175.000000     54.720000   \n",
       "\n",
       "                 IBU         Color Simple_style    Style_code  \n",
       "count   61067.000000  61067.000000        61067  61067.000000  \n",
       "unique           NaN           NaN            6           NaN  \n",
       "top              NaN           NaN     Pale Ale           NaN  \n",
       "freq             NaN           NaN        32185           NaN  \n",
       "mean       46.082720     13.160316          NaN      2.224999  \n",
       "std        42.086061     12.212511          NaN      1.379765  \n",
       "min         0.000000      0.000000          NaN      0.000000  \n",
       "25%        24.670000      5.070000          NaN      2.000000  \n",
       "50%        37.060000      7.940000          NaN      2.000000  \n",
       "75%        58.170000     15.570000          NaN      2.000000  \n",
       "max      3409.300000    186.000000          NaN      5.000000  "
      ]
     },
     "execution_count": 6,
     "metadata": {},
     "output_type": "execute_result"
    }
   ],
   "source": [
    "beere.describe(include='all')"
   ]
  },
  {
   "cell_type": "code",
   "execution_count": 7,
   "metadata": {},
   "outputs": [
    {
     "name": "stdout",
     "output_type": "stream",
     "text": [
      "<class 'pandas.core.frame.DataFrame'>\n",
      "Index: 61067 entries, 0 to 73860\n",
      "Data columns (total 8 columns):\n",
      " #   Column        Non-Null Count  Dtype  \n",
      "---  ------        --------------  -----  \n",
      " 0   Name          61065 non-null  object \n",
      " 1   Style         61067 non-null  object \n",
      " 2   StyleID       61067 non-null  int64  \n",
      " 3   ABV           61067 non-null  float64\n",
      " 4   IBU           61067 non-null  float64\n",
      " 5   Color         61067 non-null  float64\n",
      " 6   Simple_style  61067 non-null  object \n",
      " 7   Style_code    61067 non-null  int64  \n",
      "dtypes: float64(3), int64(2), object(3)\n",
      "memory usage: 4.2+ MB\n"
     ]
    }
   ],
   "source": [
    "beere.info()"
   ]
  },
  {
   "cell_type": "code",
   "execution_count": 35,
   "metadata": {},
   "outputs": [
    {
     "data": {
      "text/plain": [
       "<Axes: >"
      ]
     },
     "execution_count": 35,
     "metadata": {},
     "output_type": "execute_result"
    },
    {
     "data": {
      "image/png": "[encoded data removed]",
      "text/plain": [
       "<Figure size 1300x600 with 2 Axes>"
      ]
     },
     "metadata": {},
     "output_type": "display_data"
    }
   ],
   "source": [
    "#pearson\n",
    "plt.figure(figsize=(13,6))\n",
    "sns.heatmap(beere.corr(method='pearson',numeric_only=True),cmap='seismic',annot=True,vmin=-1)"
   ]
  },
  {
   "cell_type": "code",
   "execution_count": 34,
   "metadata": {},
   "outputs": [
    {
     "data": {
      "text/plain": [
       "<Axes: >"
      ]
     },
     "execution_count": 34,
     "metadata": {},
     "output_type": "execute_result"
    },
    {
     "data": {
      "image/png": "[encoded data removed]",
      "text/plain": [
       "<Figure size 1300x600 with 2 Axes>"
      ]
     },
     "metadata": {},
     "output_type": "display_data"
    }
   ],
   "source": [
    "#kendall\n",
    "plt.figure(figsize=(13,6))\n",
    "sns.heatmap(beere.corr(method='kendall',numeric_only=True),cmap='seismic',annot=True,vmin=-1)"
   ]
  },
  {
   "cell_type": "code",
   "execution_count": 12,
   "metadata": {},
   "outputs": [
    {
     "data": {
      "text/plain": [
       "Index(['Name', 'Style', 'StyleID', 'ABV', 'IBU', 'Color', 'Simple_style',\n",
       "       'Style_code'],\n",
       "      dtype='object')"
      ]
     },
     "execution_count": 12,
     "metadata": {},
     "output_type": "execute_result"
    }
   ],
   "source": [
    "beere.columns"
   ]
  },
  {
   "cell_type": "code",
   "execution_count": null,
   "metadata": {},
   "outputs": [],
   "source": [
    "# beer1['Style'][(beer1['Style'].str.contains('Ale'))].value_counts()"
   ]
  },
  {
   "cell_type": "code",
   "execution_count": 7,
   "metadata": {},
   "outputs": [
    {
     "data": {
      "text/html": [
       "<div>\n",
       "<style scoped>\n",
       "    .dataframe tbody tr th:only-of-type {\n",
       "        vertical-align: middle;\n",
       "    }\n",
       "\n",
       "    .dataframe tbody tr th {\n",
       "        vertical-align: top;\n",
       "    }\n",
       "\n",
       "    .dataframe thead th {\n",
       "        text-align: right;\n",
       "    }\n",
       "</style>\n",
       "<table border=\"1\" class=\"dataframe\">\n",
       "  <thead>\n",
       "    <tr style=\"text-align: right;\">\n",
       "      <th></th>\n",
       "      <th>Simple_style</th>\n",
       "      <th>ABV</th>\n",
       "      <th>IBU</th>\n",
       "      <th>Color</th>\n",
       "    </tr>\n",
       "  </thead>\n",
       "  <tbody>\n",
       "    <tr>\n",
       "      <th>0</th>\n",
       "      <td>Brown Ale</td>\n",
       "      <td>5.557610</td>\n",
       "      <td>32.840795</td>\n",
       "      <td>22.026572</td>\n",
       "    </tr>\n",
       "    <tr>\n",
       "      <th>1</th>\n",
       "      <td>Pale Ale</td>\n",
       "      <td>6.145972</td>\n",
       "      <td>56.813696</td>\n",
       "      <td>8.885258</td>\n",
       "    </tr>\n",
       "    <tr>\n",
       "      <th>2</th>\n",
       "      <td>Pale Lager/Blonde Ale</td>\n",
       "      <td>5.355674</td>\n",
       "      <td>28.256937</td>\n",
       "      <td>6.593596</td>\n",
       "    </tr>\n",
       "    <tr>\n",
       "      <th>3</th>\n",
       "      <td>Stout/Porter</td>\n",
       "      <td>6.710816</td>\n",
       "      <td>45.830329</td>\n",
       "      <td>37.396301</td>\n",
       "    </tr>\n",
       "    <tr>\n",
       "      <th>4</th>\n",
       "      <td>Strong Ale</td>\n",
       "      <td>8.438271</td>\n",
       "      <td>44.968502</td>\n",
       "      <td>17.570953</td>\n",
       "    </tr>\n",
       "    <tr>\n",
       "      <th>5</th>\n",
       "      <td>Wheat</td>\n",
       "      <td>5.140961</td>\n",
       "      <td>18.462859</td>\n",
       "      <td>4.790211</td>\n",
       "    </tr>\n",
       "  </tbody>\n",
       "</table>\n",
       "</div>"
      ],
      "text/plain": [
       "            Simple_style       ABV        IBU      Color\n",
       "0              Brown Ale  5.557610  32.840795  22.026572\n",
       "1               Pale Ale  6.145972  56.813696   8.885258\n",
       "2  Pale Lager/Blonde Ale  5.355674  28.256937   6.593596\n",
       "3           Stout/Porter  6.710816  45.830329  37.396301\n",
       "4             Strong Ale  8.438271  44.968502  17.570953\n",
       "5                  Wheat  5.140961  18.462859   4.790211"
      ]
     },
     "execution_count": 7,
     "metadata": {},
     "output_type": "execute_result"
    }
   ],
   "source": [
    "beere.groupby('Simple_style')[['ABV','IBU','Color']].mean().reset_index().sort_values(by='Simple_style')"
   ]
  },
  {
   "cell_type": "code",
   "execution_count": 23,
   "metadata": {},
   "outputs": [
    {
     "data": {
      "text/plain": [
       "<Axes: xlabel='Simple_style', ylabel='Color'>"
      ]
     },
     "execution_count": 23,
     "metadata": {},
     "output_type": "execute_result"
    },
    {
     "data": {
      "image/png": "[encoded data removed]",
      "text/plain": [
       "<Figure size 1300x600 with 1 Axes>"
      ]
     },
     "metadata": {},
     "output_type": "display_data"
    }
   ],
   "source": [
    "plt.figure(figsize=(13,6))\n",
    "sns.boxplot(beere,y='Color',x='Simple_style')"
   ]
  },
  {
   "cell_type": "code",
   "execution_count": 36,
   "metadata": {},
   "outputs": [
    {
     "data": {
      "text/plain": [
       "<Axes: xlabel='Simple_style', ylabel='IBU'>"
      ]
     },
     "execution_count": 36,
     "metadata": {},
     "output_type": "execute_result"
    },
    {
     "data": {
      "image/png": "[encoded data removed]",
      "text/plain": [
       "<Figure size 1300x600 with 1 Axes>"
      ]
     },
     "metadata": {},
     "output_type": "display_data"
    }
   ],
   "source": [
    "plt.figure(figsize=(13,6))\n",
    "sns.boxplot(beere,y='IBU',x='Simple_style', palette='YlOrBr')\n",
    "# plt.ylim(0,1600)\n",
    "# plt."
   ]
  },
  {
   "cell_type": "code",
   "execution_count": 37,
   "metadata": {},
   "outputs": [
    {
     "data": {
      "text/plain": [
       "<Axes: xlabel='Simple_style', ylabel='ABV'>"
      ]
     },
     "execution_count": 37,
     "metadata": {},
     "output_type": "execute_result"
    },
    {
     "data": {
      "image/png": "[encoded data removed]",
      "text/plain": [
       "<Figure size 1300x600 with 1 Axes>"
      ]
     },
     "metadata": {},
     "output_type": "display_data"
    }
   ],
   "source": [
    "plt.figure(figsize=(13,6))\n",
    "sns.violinplot(beere,y='ABV',x='Simple_style',palette='YlOrBr')"
   ]
  },
  {
   "cell_type": "code",
   "execution_count": 12,
   "metadata": {},
   "outputs": [
    {
     "data": {
      "text/html": [
       "<div>\n",
       "<style scoped>\n",
       "    .dataframe tbody tr th:only-of-type {\n",
       "        vertical-align: middle;\n",
       "    }\n",
       "\n",
       "    .dataframe tbody tr th {\n",
       "        vertical-align: top;\n",
       "    }\n",
       "\n",
       "    .dataframe thead th {\n",
       "        text-align: right;\n",
       "    }\n",
       "</style>\n",
       "<table border=\"1\" class=\"dataframe\">\n",
       "  <thead>\n",
       "    <tr style=\"text-align: right;\">\n",
       "      <th></th>\n",
       "      <th></th>\n",
       "      <th>ABV</th>\n",
       "      <th>IBU</th>\n",
       "      <th>Color</th>\n",
       "    </tr>\n",
       "    <tr>\n",
       "      <th>Simple_style</th>\n",
       "      <th>Style_code</th>\n",
       "      <th></th>\n",
       "      <th></th>\n",
       "      <th></th>\n",
       "    </tr>\n",
       "  </thead>\n",
       "  <tbody>\n",
       "    <tr>\n",
       "      <th>Brown Ale</th>\n",
       "      <th>4</th>\n",
       "      <td>5.42</td>\n",
       "      <td>29.08</td>\n",
       "      <td>21.36</td>\n",
       "    </tr>\n",
       "    <tr>\n",
       "      <th>Pale Ale</th>\n",
       "      <th>2</th>\n",
       "      <td>5.98</td>\n",
       "      <td>46.66</td>\n",
       "      <td>7.58</td>\n",
       "    </tr>\n",
       "    <tr>\n",
       "      <th>Pale Lager/Blonde Ale</th>\n",
       "      <th>1</th>\n",
       "      <td>5.17</td>\n",
       "      <td>24.88</td>\n",
       "      <td>4.62</td>\n",
       "    </tr>\n",
       "    <tr>\n",
       "      <th>Stout/Porter</th>\n",
       "      <th>5</th>\n",
       "      <td>6.10</td>\n",
       "      <td>38.89</td>\n",
       "      <td>37.65</td>\n",
       "    </tr>\n",
       "    <tr>\n",
       "      <th>Strong Ale</th>\n",
       "      <th>3</th>\n",
       "      <td>8.22</td>\n",
       "      <td>33.76</td>\n",
       "      <td>17.12</td>\n",
       "    </tr>\n",
       "    <tr>\n",
       "      <th>Wheat</th>\n",
       "      <th>0</th>\n",
       "      <td>5.09</td>\n",
       "      <td>16.24</td>\n",
       "      <td>4.05</td>\n",
       "    </tr>\n",
       "  </tbody>\n",
       "</table>\n",
       "</div>"
      ],
      "text/plain": [
       "                                   ABV    IBU  Color\n",
       "Simple_style          Style_code                    \n",
       "Brown Ale             4           5.42  29.08  21.36\n",
       "Pale Ale              2           5.98  46.66   7.58\n",
       "Pale Lager/Blonde Ale 1           5.17  24.88   4.62\n",
       "Stout/Porter          5           6.10  38.89  37.65\n",
       "Strong Ale            3           8.22  33.76  17.12\n",
       "Wheat                 0           5.09  16.24   4.05"
      ]
     },
     "execution_count": 12,
     "metadata": {},
     "output_type": "execute_result"
    }
   ],
   "source": [
    "beerd_stats=beere.groupby(['Simple_style','Style_code'])[['ABV','IBU','Color',]].median().sort_values(by='Simple_style')\n",
    "beerd_stats"
   ]
  },
  {
   "cell_type": "markdown",
   "metadata": {},
   "source": [
    "### Let's check if the values in the DF match the 'definitions' from [Brewersfriend.com](https://www.brewersfriend.com/beer-charts/) and the limit values they stablish for each beer style."
   ]
  },
  {
   "cell_type": "markdown",
   "metadata": {},
   "source": [
    "#### Remove duplicated beers"
   ]
  },
  {
   "cell_type": "code",
   "execution_count": 9,
   "metadata": {},
   "outputs": [],
   "source": [
    "beere=beere.drop_duplicates(subset='Name')"
   ]
  },
  {
   "cell_type": "markdown",
   "metadata": {},
   "source": [
    "#### Remove and correct outliers (wrong values)\n",
    "\n",
    "Bear in mind that amateur users uploaded their own values, which sometimes do not correspond to the actual scale they should be in."
   ]
  },
  {
   "cell_type": "code",
   "execution_count": 10,
   "metadata": {},
   "outputs": [],
   "source": [
    "#DROP LAGERS WITH WRONG COLOR (outliers)\n",
    "beere = beere.drop(beere[(beere['Simple_style'] == 'Pale Lager/Blonde Ale') & (beere['Color'] > 6)].index)"
   ]
  },
  {
   "cell_type": "code",
   "execution_count": 11,
   "metadata": {},
   "outputs": [],
   "source": [
    "# beere.loc[beere['IBU'].idxmax()] #remove outlier\n",
    "# beere = beere[beere['IBU'] != 3409.3]"
   ]
  },
  {
   "cell_type": "code",
   "execution_count": 12,
   "metadata": {},
   "outputs": [],
   "source": [
    "#DROP WRONG IBU FOR BLONDE ALES/LAGERS\n",
    "beere = beere.drop(beere[(beere['Simple_style'] == 'Pale Lager/Blonde Ale') & (beere['IBU'] > 28)].index)"
   ]
  },
  {
   "cell_type": "code",
   "execution_count": 16,
   "metadata": {},
   "outputs": [
    {
     "data": {
      "text/plain": [
       "Simple_style\n",
       "Pale Ale                 26347\n",
       "Stout/Porter              6856\n",
       "Wheat                     3657\n",
       "Pale Lager/Blonde Ale     3561\n",
       "Strong Ale                2482\n",
       "Brown Ale                 1619\n",
       "Name: count, dtype: int64"
      ]
     },
     "execution_count": 16,
     "metadata": {},
     "output_type": "execute_result"
    }
   ],
   "source": [
    "beere['Simple_style'].value_counts()"
   ]
  },
  {
   "cell_type": "code",
   "execution_count": 55,
   "metadata": {},
   "outputs": [],
   "source": [
    "# beere.loc[beere['ABV'].idxmin()]"
   ]
  },
  {
   "cell_type": "markdown",
   "metadata": {},
   "source": [
    "Remove ABV outlier and missing values stored as zero"
   ]
  },
  {
   "cell_type": "code",
   "execution_count": 17,
   "metadata": {},
   "outputs": [],
   "source": [
    "# beere.loc[beere['ABV'].idxmax()] #drop outlier"
   ]
  },
  {
   "cell_type": "code",
   "execution_count": 13,
   "metadata": {},
   "outputs": [],
   "source": [
    "beere = beere[beere['ABV'] != 54.72]\n",
    "beere = beere[(beere['ABV'] != 0.0) & (beere['IBU'] != 0.0) & (beere['Color'] != 0.0)]"
   ]
  },
  {
   "cell_type": "code",
   "execution_count": 14,
   "metadata": {},
   "outputs": [],
   "source": [
    "#SET ABV LIMIT FOR LAGERS AND BLONDE ALES \n",
    "beere.loc[(beere['Simple_style'] == 'Pale Lager/Blonde Ale') & (beere['ABV'] > 6.5), 'ABV'] = 6.4\n",
    "\n",
    "#SET COLOR LIMIT FOR PALE ALES\n",
    "beere.loc[(beere['Simple_style'] == 'Pale Ale') & (beere['Color'] > 15), 'Color'] = 15\n",
    "beere.loc[(beere['Simple_style'] == 'Pale Ale') & (beere['Color'] < 5), 'Color'] = 5"
   ]
  },
  {
   "cell_type": "code",
   "execution_count": 15,
   "metadata": {},
   "outputs": [],
   "source": [
    "#SET IBU LIMIT FOR SEVERAL STYLES\n",
    "beere.loc[(beere['Simple_style'] == 'Pale Ale') & (beere['IBU'] > 100), 'IBU'] = 90\n",
    "beere.loc[(beere['Simple_style'] == 'Stout/Porter') & (beere['IBU'] > 90), 'IBU'] = 90\n",
    "beere.loc[(beere['Simple_style'] == 'Stout/Porter') & (beere['IBU'] < 18), 'IBU'] = 18\n",
    "beere.loc[(beere['Simple_style'] == 'Strong Ale') & (beere['IBU'] < 20), 'IBU'] = 20\n",
    "beere.loc[(beere['Simple_style'] == 'Strong Ale') & (beere['IBU'] > 100), 'IBU'] = 100\n",
    "beere.loc[(beere['Simple_style'] == 'Brown Ale') & (beere['IBU'] > 35), 'IBU'] = 35\n",
    "beere.loc[(beere['Simple_style'] == 'Brown Ale') & (beere['IBU'] < 15), 'IBU'] = 15\n",
    "beere.loc[(beere['Simple_style'] == 'Pale Lager/Blonde Ale') & (beere['IBU'] < 8), 'IBU'] = 8\n",
    "beere.loc[(beere['Simple_style'] == 'Pale Ale') & (beere['IBU'] < 30), 'IBU'] = 30\n",
    "beere.loc[(beere['Simple_style'] == 'Wheat') & (beere['IBU'] > 30), 'IBU'] = 30"
   ]
  },
  {
   "cell_type": "code",
   "execution_count": 16,
   "metadata": {},
   "outputs": [],
   "source": [
    "#SET COLOR LIMIT FOR SEVERAL STYLES (according to brewfriend.com)\n",
    "beere.loc[(beere['Simple_style'] == 'Wheat') & (beere['Color'] > 6), 'Color'] = 6\n",
    "beere.loc[(beere['Simple_style'] == 'Strong Ale') & (beere['Color'] > 22), 'Color'] = 22\n",
    "beere.loc[(beere['Simple_style'] == 'Brown Ale') & (beere['Color'] < 12), 'Color'] = 12\n",
    "beere.loc[(beere['Simple_style'] == 'Stout/Porter') & (beere['Color'] < 17), 'Color'] = 17"
   ]
  },
  {
   "cell_type": "code",
   "execution_count": null,
   "metadata": {},
   "outputs": [],
   "source": []
  },
  {
   "cell_type": "code",
   "execution_count": 22,
   "metadata": {},
   "outputs": [
    {
     "data": {
      "text/html": [
       "<div>\n",
       "<style scoped>\n",
       "    .dataframe tbody tr th:only-of-type {\n",
       "        vertical-align: middle;\n",
       "    }\n",
       "\n",
       "    .dataframe tbody tr th {\n",
       "        vertical-align: top;\n",
       "    }\n",
       "\n",
       "    .dataframe thead th {\n",
       "        text-align: right;\n",
       "    }\n",
       "</style>\n",
       "<table border=\"1\" class=\"dataframe\">\n",
       "  <thead>\n",
       "    <tr style=\"text-align: right;\">\n",
       "      <th></th>\n",
       "      <th></th>\n",
       "      <th>ABV</th>\n",
       "      <th>IBU</th>\n",
       "      <th>Color</th>\n",
       "    </tr>\n",
       "    <tr>\n",
       "      <th>Simple_style</th>\n",
       "      <th>Style_code</th>\n",
       "      <th></th>\n",
       "      <th></th>\n",
       "      <th></th>\n",
       "    </tr>\n",
       "  </thead>\n",
       "  <tbody>\n",
       "    <tr>\n",
       "      <th>Wheat</th>\n",
       "      <th>0</th>\n",
       "      <td>5.090</td>\n",
       "      <td>16.720</td>\n",
       "      <td>4.07</td>\n",
       "    </tr>\n",
       "    <tr>\n",
       "      <th>Pale Lager/Blonde Ale</th>\n",
       "      <th>1</th>\n",
       "      <td>5.000</td>\n",
       "      <td>20.615</td>\n",
       "      <td>3.97</td>\n",
       "    </tr>\n",
       "    <tr>\n",
       "      <th>Pale Ale</th>\n",
       "      <th>2</th>\n",
       "      <td>5.980</td>\n",
       "      <td>20.000</td>\n",
       "      <td>7.57</td>\n",
       "    </tr>\n",
       "    <tr>\n",
       "      <th>Strong Ale</th>\n",
       "      <th>3</th>\n",
       "      <td>8.275</td>\n",
       "      <td>34.665</td>\n",
       "      <td>17.16</td>\n",
       "    </tr>\n",
       "    <tr>\n",
       "      <th>Brown Ale</th>\n",
       "      <th>4</th>\n",
       "      <td>5.440</td>\n",
       "      <td>29.730</td>\n",
       "      <td>21.57</td>\n",
       "    </tr>\n",
       "    <tr>\n",
       "      <th>Stout/Porter</th>\n",
       "      <th>5</th>\n",
       "      <td>6.150</td>\n",
       "      <td>40.040</td>\n",
       "      <td>37.80</td>\n",
       "    </tr>\n",
       "  </tbody>\n",
       "</table>\n",
       "</div>"
      ],
      "text/plain": [
       "                                    ABV     IBU  Color\n",
       "Simple_style          Style_code                      \n",
       "Wheat                 0           5.090  16.720   4.07\n",
       "Pale Lager/Blonde Ale 1           5.000  20.615   3.97\n",
       "Pale Ale              2           5.980  20.000   7.57\n",
       "Strong Ale            3           8.275  34.665  17.16\n",
       "Brown Ale             4           5.440  29.730  21.57\n",
       "Stout/Porter          5           6.150  40.040  37.80"
      ]
     },
     "execution_count": 22,
     "metadata": {},
     "output_type": "execute_result"
    }
   ],
   "source": [
    "beerd_stats=beere.groupby(['Simple_style','Style_code'])[['ABV','IBU','Color',]].median().sort_values(by='Style_code')\n",
    "beerd_stats"
   ]
  },
  {
   "cell_type": "code",
   "execution_count": 24,
   "metadata": {},
   "outputs": [
    {
     "name": "stdout",
     "output_type": "stream",
     "text": [
      "<class 'pandas.core.frame.DataFrame'>\n",
      "RangeIndex: 42656 entries, 0 to 42655\n",
      "Data columns (total 8 columns):\n",
      " #   Column        Non-Null Count  Dtype  \n",
      "---  ------        --------------  -----  \n",
      " 0   Name          42656 non-null  object \n",
      " 1   Style         42656 non-null  object \n",
      " 2   StyleID       42656 non-null  int64  \n",
      " 3   ABV           42656 non-null  float64\n",
      " 4   IBU           42656 non-null  float64\n",
      " 5   Color         42656 non-null  float64\n",
      " 6   Simple_style  42656 non-null  object \n",
      " 7   Style_code    42656 non-null  int64  \n",
      "dtypes: float64(3), int64(2), object(3)\n",
      "memory usage: 2.6+ MB\n"
     ]
    }
   ],
   "source": [
    "beere.info()"
   ]
  },
  {
   "cell_type": "code",
   "execution_count": 23,
   "metadata": {},
   "outputs": [],
   "source": [
    "#Reset the index due to the dropped rows\n",
    "beere.reset_index(drop=True, inplace=True)"
   ]
  },
  {
   "cell_type": "code",
   "execution_count": 70,
   "metadata": {},
   "outputs": [],
   "source": [
    "# beere.to_csv('../data/processed/beer_enc_limited.csv')"
   ]
  },
  {
   "cell_type": "code",
   "execution_count": null,
   "metadata": {},
   "outputs": [],
   "source": [
    "#NXT NOTEBOOK\n",
    "# X=beer1[['Size(L)', 'FG',\n",
    "#        'ABV', 'IBU', 'Color', 'BoilTime', 'SugarScale', 'BrewMethod','PrimingMethod']]\n",
    "# y=beer1['Simple_Style_code']"
   ]
  },
  {
   "cell_type": "code",
   "execution_count": null,
   "metadata": {},
   "outputs": [],
   "source": [
    "#NXT NOTEBOOK\n",
    "# from imblearn.under_sampling import RandomUnderSampler\n",
    "\n",
    "# rus = RandomUnderSampler(random_state=42)\n",
    "\n",
    "# X_resampled, y_resampled = rus.fit_resample(X, y)"
   ]
  }
 ],
 "metadata": {
  "kernelspec": {
   "display_name": "Python 3",
   "language": "python",
   "name": "python3"
  },
  "language_info": {
   "codemirror_mode": {
    "name": "ipython",
    "version": 3
   },
   "file_extension": ".py",
   "mimetype": "text/x-python",
   "name": "python",
   "nbconvert_exporter": "python",
   "pygments_lexer": "ipython3",
   "version": "3.11.4"
  }
 },
 "nbformat": 4,
 "nbformat_minor": 2
}
