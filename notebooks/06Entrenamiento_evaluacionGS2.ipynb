{
 "cells": [
  {
   "cell_type": "code",
   "execution_count": 1,
   "metadata": {},
   "outputs": [],
   "source": [
    "import numpy as np\n",
    "import pandas as pd\n",
    "import seaborn as sns\n",
    "import matplotlib.pyplot as plt\n",
    "from sklearn.preprocessing import StandardScaler\n",
    "from sklearn.preprocessing import MinMaxScaler\n",
    "from sklearn.pipeline import Pipeline\n",
    "from sklearn.model_selection import train_test_split, GridSearchCV\n",
    "from sklearn.ensemble import RandomForestClassifier, GradientBoostingClassifier\n",
    "from sklearn.linear_model import LogisticRegression\n",
    "from sklearn.neighbors import KNeighborsClassifier\n",
    "from sklearn.svm import SVC\n",
    "from sklearn.feature_selection import SelectKBest\n",
    "import warnings\n",
    "from sklearn.metrics import silhouette_score\n",
    "from sklearn.cluster import KMeans\n",
    "warnings.filterwarnings(\"ignore\")\n",
    "import os\n",
    "import yaml\n",
    "import pickle\n",
    "\n",
    "pd.set_option('display.max_columns', 40)\n",
    "pd.set_option('display.max_colwidth', 300)\n",
    "from sklearn.metrics import (precision_score,recall_score,\n",
    "                             f1_score, accuracy_score,confusion_matrix, classification_report)"
   ]
  },
  {
   "cell_type": "code",
   "execution_count": 2,
   "metadata": {},
   "outputs": [],
   "source": [
    "colorcode=pd.read_csv('../data/processed/color_code.csv',index_col=0)\n",
    "train=pd.read_csv('../data/train/train.csv',index_col=0)\n",
    "test=pd.read_csv('../data/test/test.csv',index_col=0)"
   ]
  },
  {
   "cell_type": "code",
   "execution_count": 3,
   "metadata": {},
   "outputs": [],
   "source": [
    "X_train=train[['ABV','IBU','Color']]\n",
    "X_test=test[['ABV','IBU','Color']]\n",
    "\n",
    "y_train=train['Style_color']\n",
    "y_test=test['Style_color']"
   ]
  },
  {
   "cell_type": "code",
   "execution_count": 4,
   "metadata": {},
   "outputs": [],
   "source": [
    "from imblearn.under_sampling import RandomUnderSampler\n",
    "rus = RandomUnderSampler(random_state=42)\n",
    "\n",
    "X_resampled, y_resampled = rus.fit_resample(X_train, y_train)"
   ]
  },
  {
   "cell_type": "code",
   "execution_count": 5,
   "metadata": {},
   "outputs": [],
   "source": [
    "from sklearn.compose import ColumnTransformer\n",
    "col_toscale=['ABV', 'IBU', 'Color']\n",
    "preprocessor = ColumnTransformer(\n",
    "    transformers=[\n",
    "        ('scaler', MinMaxScaler(), col_toscale)],\n",
    "    remainder='passthrough')"
   ]
  },
  {
   "cell_type": "code",
   "execution_count": null,
   "metadata": {},
   "outputs": [],
   "source": [
    "pipeScale = Pipeline(steps=[\n",
    "    # ('preprocessor',preprocessor),\n",
    "    # (\"selectkbest\", SelectKBest(k=3)),\n",
    "    (\"classifier\", #RandomForestClassifier())\n",
    "])"
   ]
  },
  {
   "cell_type": "code",
   "execution_count": null,
   "metadata": {},
   "outputs": [],
   "source": [
    "log_params = {\n",
    "    # 'selectkbest__k':np.arange(1,4),\n",
    "    # 'classifier': [LogisticRegression()],\n",
    "    # 'classifier__C': [0.1,1,10]\n",
    "}\n",
    "rf_params = {\n",
    "    # 'selectkbest__k':np.arange(1,4),\n",
    "    'classifier': [RandomForestClassifier()],\n",
    "    'classifier__max_depth': [3,5,7]\n",
    "}\n",
    "gb_params = {\n",
    "    # 'selectkbest__k':np.arange(1,4),\n",
    "    'classifier': [GradientBoostingClassifier()],\n",
    "    'classifier__max_depth':[3,5,7]\n",
    "}\n",
    "knn_params = {\n",
    "    # 'selectkbest__k':np.arange(1,4),\n",
    "    'classifier': [KNeighborsClassifier()],\n",
    "    'classifier__n_neighbors': np.arange(1,10)\n",
    "}\n",
    "svm_params = {\n",
    "    # 'selectkbest__k':np.arange(1,4),\n",
    "    'classifier': [SVC()],\n",
    "    'classifier__C': [0.1,1,10]\n",
    "}\n",
    "\n",
    "search_space = [\n",
    "    # {'preprocessor__scaler__feature_range': [(0, 1)]},   #remove for gs2\n",
    "    # log_params,\n",
    "    rf_params,\n",
    "    gb_params,\n",
    "    knn_params,\n",
    "    svm_params   \n",
    "]"
   ]
  },
  {
   "cell_type": "code",
   "execution_count": null,
   "metadata": {},
   "outputs": [],
   "source": [
    "\n",
    "scoring={'f1_weighted': 'f1_weighted',\n",
    "        'precision_weighted': 'precision_weighted',\n",
    "        'recall_weighted': 'recall_weighted'}\n",
    "clf_gs = GridSearchCV(estimator=pipeScale, param_grid=search_space, cv=5, scoring=scoring, refit='f1_weighted',verbose=3, n_jobs=-1,error_score='raise')"
   ]
  },
  {
   "cell_type": "code",
   "execution_count": null,
   "metadata": {},
   "outputs": [],
   "source": [
    "clf_gs.fit(X_resampled, y_resampled)"
   ]
  },
  {
   "cell_type": "code",
   "execution_count": null,
   "metadata": {},
   "outputs": [],
   "source": [
    "print(clf_gs.best_estimator_)\n",
    "print(clf_gs.best_score_)\n",
    "print(clf_gs.best_params_)"
   ]
  },
  {
   "cell_type": "code",
   "execution_count": null,
   "metadata": {},
   "outputs": [],
   "source": [
    "# y_predScale = clf_gs.best_estimator_.predict(X_test)\n",
    "y_pred = clf_gs.best_estimator_.predict(X_test)"
   ]
  },
  {
   "cell_type": "code",
   "execution_count": null,
   "metadata": {},
   "outputs": [],
   "source": [
    "\n",
    "print('accuracy_score',accuracy_score(y_pred,y_test))\n",
    "print('precision_score',precision_score(y_pred,y_test, average='weighted'))\n",
    "print('f1_score',f1_score(y_pred,y_test, average='weighted'))\n",
    "print('recall_score',recall_score(y_pred,y_test, average='weighted'))\n",
    "# print(classification_report(yc_test, predictions))"
   ]
  },
  {
   "cell_type": "code",
   "execution_count": null,
   "metadata": {},
   "outputs": [],
   "source": []
  }
 ],
 "metadata": {
  "kernelspec": {
   "display_name": "Python 3",
   "language": "python",
   "name": "python3"
  },
  "language_info": {
   "codemirror_mode": {
    "name": "ipython",
    "version": 3
   },
   "file_extension": ".py",
   "mimetype": "text/x-python",
   "name": "python",
   "nbconvert_exporter": "python",
   "pygments_lexer": "ipython3",
   "version": "3.11.4"
  }
 },
 "nbformat": 4,
 "nbformat_minor": 2
}
