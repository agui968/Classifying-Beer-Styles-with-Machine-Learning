{
 "cells": [
  {
   "cell_type": "code",
   "execution_count": 12,
   "metadata": {},
   "outputs": [],
   "source": [
    "import numpy as np\n",
    "import pandas as pd\n",
    "import seaborn as sns\n",
    "import matplotlib.pyplot as plt\n",
    "from sklearn.preprocessing import StandardScaler\n",
    "from sklearn.preprocessing import MinMaxScaler\n",
    "from sklearn.pipeline import Pipeline\n",
    "from sklearn.model_selection import train_test_split, GridSearchCV\n",
    "from sklearn.ensemble import RandomForestClassifier, GradientBoostingClassifier\n",
    "from sklearn.linear_model import LogisticRegression\n",
    "from sklearn.neighbors import KNeighborsClassifier\n",
    "from sklearn.svm import SVC\n",
    "from sklearn.feature_selection import SelectKBest\n",
    "\n",
    "pd.set_option('display.max_columns', 40)\n",
    "pd.set_option('display.max_colwidth', 300)\n",
    "from sklearn.metrics import (precision_score,recall_score,\n",
    "                             f1_score, accuracy_score,confusion_matrix, classification_report)"
   ]
  },
  {
   "cell_type": "code",
   "execution_count": 9,
   "metadata": {},
   "outputs": [],
   "source": [
    "colorcode=pd.read_csv('../data/processed/color_code.csv',index_col=0)\n",
    "train=pd.read_csv('../data/train/train.csv',index_col=0)\n",
    "test=pd.read_csv('../data/test/test.csv',index_col=0)"
   ]
  },
  {
   "cell_type": "code",
   "execution_count": 10,
   "metadata": {},
   "outputs": [],
   "source": [
    "X_train=train[['ABV','IBU','Color']]\n",
    "X_test=test[['ABV','IBU','Color']]\n",
    "\n",
    "y_train=train['Style_color']\n",
    "y_test=test['Style_color']"
   ]
  },
  {
   "cell_type": "code",
   "execution_count": 11,
   "metadata": {},
   "outputs": [],
   "source": [
    "from imblearn.under_sampling import RandomUnderSampler\n",
    "rus = RandomUnderSampler(random_state=42)\n",
    "\n",
    "X_resampled, y_resampled = rus.fit_resample(X_train, y_train)"
   ]
  },
  {
   "cell_type": "code",
   "execution_count": null,
   "metadata": {},
   "outputs": [],
   "source": [
    "pipe = Pipeline(steps=[\n",
    "    (\"scaler\", StandardScaler()),\n",
    "    (\"selectkbest\", SelectKBest()),\n",
    "    (\"classifier\", RandomForestClassifier())\n",
    "])"
   ]
  },
  {
   "cell_type": "code",
   "execution_count": null,
   "metadata": {},
   "outputs": [],
   "source": [
    "# log_params = {\n",
    "#     'selectkbest__k':np.arange(5,15),\n",
    "#     'classifier': [LogisticRegression()],\n",
    "#     'classifier__C': [0.1,1,10]\n",
    "# }\n",
    "rf_params = {\n",
    "    'scaler': [StandardScaler(), MinMaxScaler(),None],\n",
    "    'selectkbest__k':np.arange(3,10),\n",
    "    'classifier': [RandomForestClassifier()],\n",
    "    'classifier__max_depth': [3,8,12]\n",
    "}\n",
    "gb_params = {\n",
    "    'scaler': [StandardScaler(), MinMaxScaler(),None],\n",
    "    'selectkbest__k':np.arange(5,15),\n",
    "    'classifier': [GradientBoostingClassifier()],\n",
    "    'classifier__max_depth': [3,6,9,12]\n",
    "}\n",
    "knn_params = {\n",
    "    'selectkbest__k':np.arange(3,10),\n",
    "    'classifier': [KNeighborsClassifier()],\n",
    "    'classifier__n_neighbors': np.arange(3,10)\n",
    "}\n",
    "svm_params = {\n",
    "    'selectkbest__k':np.arange(3,10),\n",
    "    'classifier': [SVC()],\n",
    "    'classifier__C': [0.1,1,10]\n",
    "}\n",
    "\n",
    "search_space = [\n",
    "    # log_params,\n",
    "    rf_params,\n",
    "    gb_params,\n",
    "    knn_params,\n",
    "    svm_params   \n",
    "]"
   ]
  },
  {
   "cell_type": "code",
   "execution_count": null,
   "metadata": {},
   "outputs": [],
   "source": [
    "clf_gs = GridSearchCV(estimator=pipe, param_grid=search_space, cv=3, scoring=[\"f1\",'precision','recall'], verbose=3, n_jobs=-1)\n",
    "\n",
    "clf_gs.fit(X_resampled, y_resampled)"
   ]
  },
  {
   "cell_type": "code",
   "execution_count": null,
   "metadata": {},
   "outputs": [],
   "source": [
    "y_pred = pipe_gs_rf_.predict(X_test)"
   ]
  },
  {
   "cell_type": "code",
   "execution_count": null,
   "metadata": {},
   "outputs": [],
   "source": [
    "predictions = lr1.predict(X_test)\n",
    "predicions_proba = lr1.predict_proba(X_test)\n",
    "# predicions_proba"
   ]
  },
  {
   "cell_type": "code",
   "execution_count": null,
   "metadata": {},
   "outputs": [],
   "source": [
    "\n",
    "print('accuracy_score',accuracy_score(yc_test, predictions))\n",
    "print('precision_score',precision_score(yc_test, predictions, average='weighted'))\n",
    "print('f1_score',f1_score(yc_test, predictions, average='weighted'))\n",
    "print('recall_score',recall_score(yc_test, predictions, average='weighted'))\n",
    "# print(classification_report(yc_test, predictions))"
   ]
  },
  {
   "cell_type": "code",
   "execution_count": null,
   "metadata": {},
   "outputs": [],
   "source": [
    "cm = confusion_matrix(yc_test, predictions,normalize='true')\n",
    "# print(cm)"
   ]
  },
  {
   "cell_type": "code",
   "execution_count": null,
   "metadata": {},
   "outputs": [],
   "source": [
    "plt.figure(figsize=(8,8))\n",
    "sns.heatmap(cm, annot=True, linewidths=.5, square = True, cmap = 'YlOrBr')\n",
    "plt.ylabel('Actual style')\n",
    "plt.xlabel('Predicted style')\n",
    "all_sample_title = (f'Accuracy: {accuracy_score(yc_test, predictions)}\\nRecall:\n",
    "                    {recall_score(yc_test, predictions, average=\"weighted\")}\\nF1:\n",
    "                    {f1_score(yc_test, predictions, average=\"weighted\")}')\n",
    "plt.title(all_sample_title, size = 10);\n",
    "plt.xticks(ticks=range(len(colorcode.index)), labels=colorcode['Style'], rotation=55,fontsize=8);\n",
    "plt.yticks(ticks=range(len(colorcode.index)), labels=colorcode['Style'],rotation=25,fontsize=8);"
   ]
  },
  {
   "cell_type": "code",
   "execution_count": null,
   "metadata": {},
   "outputs": [],
   "source": [
    "import pickle\n",
    "# with open('../models/lr1', 'wb') as output:\n",
    "#     pickle.dump(lr1, output)\n",
    "\n",
    "# with open('../models/lr1', 'rb') as input:\n",
    "#     modelo_importado = pickle.load(input) "
   ]
  },
  {
   "cell_type": "code",
   "execution_count": null,
   "metadata": {},
   "outputs": [],
   "source": []
  }
 ],
 "metadata": {
  "kernelspec": {
   "display_name": "Python 3",
   "language": "python",
   "name": "python3"
  },
  "language_info": {
   "codemirror_mode": {
    "name": "ipython",
    "version": 3
   },
   "file_extension": ".py",
   "mimetype": "text/x-python",
   "name": "python",
   "nbconvert_exporter": "python",
   "pygments_lexer": "ipython3",
   "version": "3.11.4"
  }
 },
 "nbformat": 4,
 "nbformat_minor": 2
}
